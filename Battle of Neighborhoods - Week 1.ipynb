{
 "cells": [
  {
   "cell_type": "markdown",
   "metadata": {},
   "source": [
    "# Demands \n",
    "\n",
    "The apartment in Manhattan must meet the following demands:\n",
    "-Apartment must be 2 or 3 bedrooms\n",
    "-Desired location is near a metro station in the Manhattan area and within 1.0 mile (1.6 km) radius\n",
    "-Price of rent not exceed $7,000 per month\n",
    "-Top ammenities in the selected neighborhood shall be similar to current residence\n",
    "-Desirable to have venues such as coffee shops, restaurants Asian Thai, wine stores, gym and food shops\n"
   ]
  },
  {
   "cell_type": "markdown",
   "metadata": {},
   "source": [
    "# Data Describing:\n",
    "\n",
    "-List of Boroughs and neighborhoods of Manhattan with their geodata (latitud and longitud)\n",
    "-List of Subway metro stations in Manhattan with their address location\n",
    "-List of apartments for rent in Manhattan area with their addresses and price\n",
    "-Preferably, a list of apartment for rent with additional information, such as price, address, area, # of beds, etc\n",
    "-Venues for each Manhattan neighborhood ( than can be clustered)\n",
    "-Venues for subway metro stations, as needed"
   ]
  },
  {
   "cell_type": "markdown",
   "metadata": {},
   "source": [
    "# Using data for solving:\n",
    "\n",
    "-Use Foursquare and geopy data to map top 10 venues for all Manhattan neighborhoods and clustered in groups ( as per Course LAB)\n",
    "-Use foursquare and geopy data to map the location of subway metro stations , separately and on top of the above clustered map in order to be able to identify the venues and ammenities near each metro station, or explore each subway location separately\n",
    "-Use Foursquare and geopy data to map the location of rental places, in some form, linked to the subway locations.\n",
    "-create a map that depicts, for instance, the average rental price per square ft, around a radious of 1.0 mile (1.6 km) around each subway station - or a similar metrics. I will be able to quickly point to the popups to know the relative price per subway area.\n",
    "-Addresses from rental locations will be converted to geodata( lat, long) using Geopy-distance and Nominatim.\n",
    "-Data will be searched in open data sources if available, from real estate sites if open to reading, libraries or other government agencies such as Metro New York MTA, etc."
   ]
  }
 ],
 "metadata": {
  "kernelspec": {
   "display_name": "Python 3",
   "language": "python",
   "name": "python3"
  },
  "language_info": {
   "codemirror_mode": {
    "name": "ipython",
    "version": 3
   },
   "file_extension": ".py",
   "mimetype": "text/x-python",
   "name": "python",
   "nbconvert_exporter": "python",
   "pygments_lexer": "ipython3",
   "version": "3.7.0"
  }
 },
 "nbformat": 4,
 "nbformat_minor": 2
}
